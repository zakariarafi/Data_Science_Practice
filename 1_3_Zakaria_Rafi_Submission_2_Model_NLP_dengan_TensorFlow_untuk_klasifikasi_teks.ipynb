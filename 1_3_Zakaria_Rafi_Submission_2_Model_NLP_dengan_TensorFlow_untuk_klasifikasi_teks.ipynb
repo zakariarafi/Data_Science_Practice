{
  "nbformat": 4,
  "nbformat_minor": 0,
  "metadata": {
    "colab": {
      "provenance": [],
      "authorship_tag": "ABX9TyPXVDWTE8h51bVDKGqJ0Vtp",
      "include_colab_link": true
    },
    "kernelspec": {
      "name": "python3",
      "display_name": "Python 3"
    },
    "language_info": {
      "name": "python"
    }
  },
  "cells": [
    {
      "cell_type": "markdown",
      "metadata": {
        "id": "view-in-github",
        "colab_type": "text"
      },
      "source": [
        "<a href=\"https://colab.research.google.com/github/zakariarafi/Data_Science_Practice/blob/master/1_3_Zakaria_Rafi_Submission_2_Model_NLP_dengan_TensorFlow_untuk_klasifikasi_teks.ipynb\" target=\"_parent\"><img src=\"https://colab.research.google.com/assets/colab-badge.svg\" alt=\"Open In Colab\"/></a>"
      ]
    },
    {
      "cell_type": "code",
      "execution_count": 1,
      "metadata": {
        "id": "W5eVY_ZSXm3Z"
      },
      "outputs": [],
      "source": [
        "# 1. Impor library yang diperlukan\n",
        "import pandas as pd\n",
        "from sklearn.model_selection import train_test_split\n",
        "from tensorflow.keras.preprocessing.text import Tokenizer\n",
        "from tensorflow.keras.preprocessing.sequence import pad_sequences\n",
        "import tensorflow as tf"
      ]
    },
    {
      "cell_type": "code",
      "source": [
        "# 2. Baca dataset dan lakukan pra-pemrosesan\n",
        "df = pd.read_csv('train.csv')"
      ],
      "metadata": {
        "id": "zjMY9FDnYOeu"
      },
      "execution_count": 5,
      "outputs": []
    },
    {
      "cell_type": "code",
      "source": [
        "# 3. Bagi dataset menjadi data latihan dan data uji\n",
        "sms_train, sms_test, label_train, label_test = train_test_split(df['sms'], df['label'], test_size=0.2)"
      ],
      "metadata": {
        "id": "wXC_FzdPYQ-m"
      },
      "execution_count": 6,
      "outputs": []
    },
    {
      "cell_type": "code",
      "source": [
        "# 4. Tokenisasi dan padding\n",
        "tokenizer = Tokenizer(num_words=5000, oov_token='x')\n",
        "tokenizer.fit_on_texts(sms_train)\n",
        "\n",
        "sequence_train = tokenizer.texts_to_sequences(sms_train)\n",
        "sequence_test = tokenizer.texts_to_sequences(sms_test)\n",
        "\n",
        "padded_train = pad_sequences(sequence_train)\n",
        "padded_test = pad_sequences(sequence_test)"
      ],
      "metadata": {
        "id": "ZA_69ChXYTzi"
      },
      "execution_count": 7,
      "outputs": []
    },
    {
      "cell_type": "code",
      "source": [
        "# 5. Mendefinisikan model\n",
        "model = tf.keras.Sequential([\n",
        "    tf.keras.layers.Embedding(input_dim=5000, output_dim=16),\n",
        "    tf.keras.layers.LSTM(64),\n",
        "    tf.keras.layers.Dense(24, activation='relu'),\n",
        "    tf.keras.layers.Dense(1, activation='sigmoid')\n",
        "])\n"
      ],
      "metadata": {
        "id": "zfBbWWTdYYQr"
      },
      "execution_count": 8,
      "outputs": []
    },
    {
      "cell_type": "code",
      "source": [
        "# 6. Kompilasi model\n",
        "model.compile(loss='binary_crossentropy',optimizer='adam',metrics=['accuracy'])\n"
      ],
      "metadata": {
        "id": "gHHn0aieYaUB"
      },
      "execution_count": 9,
      "outputs": []
    },
    {
      "cell_type": "code",
      "source": [
        "# 7. Melatih model\n",
        "num_epochs = 30\n",
        "history = model.fit(padded_train, label_train, epochs=num_epochs,\n",
        "                    validation_data=(padded_test, label_test), verbose=2)"
      ],
      "metadata": {
        "colab": {
          "base_uri": "https://localhost:8080/"
        },
        "id": "JxFYWzhJYc4q",
        "outputId": "830f4498-c9ae-4e07-d749-c6a6a008f866"
      },
      "execution_count": 10,
      "outputs": [
        {
          "output_type": "stream",
          "name": "stdout",
          "text": [
            "Epoch 1/30\n",
            "140/140 - 13s - loss: 0.2897 - accuracy: 0.9029 - val_loss: 0.0559 - val_accuracy: 0.9839 - 13s/epoch - 91ms/step\n",
            "Epoch 2/30\n",
            "140/140 - 10s - loss: 0.0454 - accuracy: 0.9870 - val_loss: 0.0494 - val_accuracy: 0.9865 - 10s/epoch - 74ms/step\n",
            "Epoch 3/30\n",
            "140/140 - 10s - loss: 0.0211 - accuracy: 0.9946 - val_loss: 0.0410 - val_accuracy: 0.9865 - 10s/epoch - 74ms/step\n",
            "Epoch 4/30\n",
            "140/140 - 10s - loss: 0.0109 - accuracy: 0.9969 - val_loss: 0.0519 - val_accuracy: 0.9839 - 10s/epoch - 73ms/step\n",
            "Epoch 5/30\n",
            "140/140 - 10s - loss: 0.0071 - accuracy: 0.9973 - val_loss: 0.0438 - val_accuracy: 0.9874 - 10s/epoch - 74ms/step\n",
            "Epoch 6/30\n",
            "140/140 - 10s - loss: 0.0044 - accuracy: 0.9987 - val_loss: 0.0643 - val_accuracy: 0.9785 - 10s/epoch - 72ms/step\n",
            "Epoch 7/30\n",
            "140/140 - 10s - loss: 0.0029 - accuracy: 0.9993 - val_loss: 0.0550 - val_accuracy: 0.9892 - 10s/epoch - 73ms/step\n",
            "Epoch 8/30\n",
            "140/140 - 10s - loss: 0.0011 - accuracy: 0.9998 - val_loss: 0.0691 - val_accuracy: 0.9901 - 10s/epoch - 74ms/step\n",
            "Epoch 9/30\n",
            "140/140 - 10s - loss: 6.4026e-04 - accuracy: 0.9998 - val_loss: 0.0635 - val_accuracy: 0.9874 - 10s/epoch - 74ms/step\n",
            "Epoch 10/30\n",
            "140/140 - 10s - loss: 0.0032 - accuracy: 0.9989 - val_loss: 0.0522 - val_accuracy: 0.9865 - 10s/epoch - 74ms/step\n",
            "Epoch 11/30\n",
            "140/140 - 10s - loss: 6.6140e-04 - accuracy: 1.0000 - val_loss: 0.0669 - val_accuracy: 0.9883 - 10s/epoch - 74ms/step\n",
            "Epoch 12/30\n",
            "140/140 - 10s - loss: 1.7040e-04 - accuracy: 1.0000 - val_loss: 0.0722 - val_accuracy: 0.9883 - 10s/epoch - 74ms/step\n",
            "Epoch 13/30\n",
            "140/140 - 10s - loss: 9.4872e-05 - accuracy: 1.0000 - val_loss: 0.0748 - val_accuracy: 0.9874 - 10s/epoch - 74ms/step\n",
            "Epoch 14/30\n",
            "140/140 - 10s - loss: 6.8633e-05 - accuracy: 1.0000 - val_loss: 0.0776 - val_accuracy: 0.9857 - 10s/epoch - 73ms/step\n",
            "Epoch 15/30\n",
            "140/140 - 10s - loss: 4.5582e-05 - accuracy: 1.0000 - val_loss: 0.0812 - val_accuracy: 0.9857 - 10s/epoch - 72ms/step\n",
            "Epoch 16/30\n",
            "140/140 - 10s - loss: 3.2193e-05 - accuracy: 1.0000 - val_loss: 0.0840 - val_accuracy: 0.9857 - 10s/epoch - 73ms/step\n",
            "Epoch 17/30\n",
            "140/140 - 10s - loss: 2.5746e-05 - accuracy: 1.0000 - val_loss: 0.0866 - val_accuracy: 0.9857 - 10s/epoch - 73ms/step\n",
            "Epoch 18/30\n",
            "140/140 - 10s - loss: 2.1233e-05 - accuracy: 1.0000 - val_loss: 0.0886 - val_accuracy: 0.9857 - 10s/epoch - 73ms/step\n",
            "Epoch 19/30\n",
            "140/140 - 10s - loss: 1.8193e-05 - accuracy: 1.0000 - val_loss: 0.0900 - val_accuracy: 0.9857 - 10s/epoch - 75ms/step\n",
            "Epoch 20/30\n",
            "140/140 - 10s - loss: 1.5979e-05 - accuracy: 1.0000 - val_loss: 0.0922 - val_accuracy: 0.9865 - 10s/epoch - 74ms/step\n",
            "Epoch 21/30\n",
            "140/140 - 10s - loss: 1.2547e-05 - accuracy: 1.0000 - val_loss: 0.0938 - val_accuracy: 0.9865 - 10s/epoch - 73ms/step\n",
            "Epoch 22/30\n",
            "140/140 - 10s - loss: 1.1285e-05 - accuracy: 1.0000 - val_loss: 0.0955 - val_accuracy: 0.9857 - 10s/epoch - 71ms/step\n",
            "Epoch 23/30\n",
            "140/140 - 10s - loss: 9.9575e-06 - accuracy: 1.0000 - val_loss: 0.0973 - val_accuracy: 0.9865 - 10s/epoch - 74ms/step\n",
            "Epoch 24/30\n",
            "140/140 - 10s - loss: 8.2377e-06 - accuracy: 1.0000 - val_loss: 0.0988 - val_accuracy: 0.9874 - 10s/epoch - 74ms/step\n",
            "Epoch 25/30\n",
            "140/140 - 10s - loss: 7.4082e-06 - accuracy: 1.0000 - val_loss: 0.1002 - val_accuracy: 0.9874 - 10s/epoch - 74ms/step\n",
            "Epoch 26/30\n",
            "140/140 - 10s - loss: 6.3893e-06 - accuracy: 1.0000 - val_loss: 0.1022 - val_accuracy: 0.9865 - 10s/epoch - 74ms/step\n",
            "Epoch 27/30\n",
            "140/140 - 10s - loss: 5.5196e-06 - accuracy: 1.0000 - val_loss: 0.1037 - val_accuracy: 0.9865 - 10s/epoch - 74ms/step\n",
            "Epoch 28/30\n",
            "140/140 - 10s - loss: 5.3863e-06 - accuracy: 1.0000 - val_loss: 0.1053 - val_accuracy: 0.9857 - 10s/epoch - 74ms/step\n",
            "Epoch 29/30\n",
            "140/140 - 10s - loss: 4.4290e-06 - accuracy: 1.0000 - val_loss: 0.1065 - val_accuracy: 0.9865 - 10s/epoch - 75ms/step\n",
            "Epoch 30/30\n",
            "140/140 - 10s - loss: 3.8562e-06 - accuracy: 1.0000 - val_loss: 0.1082 - val_accuracy: 0.9874 - 10s/epoch - 71ms/step\n"
          ]
        }
      ]
    },
    {
      "cell_type": "code",
      "source": [
        "# Mengambil nilai akurasi pada set latihan dan validasi\n",
        "acc_train = history.history['accuracy']\n",
        "acc_val = history.history['val_accuracy']"
      ],
      "metadata": {
        "id": "QcHn0CykZxxq"
      },
      "execution_count": 11,
      "outputs": []
    },
    {
      "cell_type": "code",
      "source": [
        "# Mengetahui epoch terakhir\n",
        "print(f\"Akurasi set latihan pada epoch terakhir: {acc_train[-1]*100:.2f}%\")\n",
        "print(f\"Akurasi set validasi pada epoch terakhir: {acc_val[-1]*100:.2f}%\")"
      ],
      "metadata": {
        "colab": {
          "base_uri": "https://localhost:8080/"
        },
        "id": "PzlMWcPUZ0g-",
        "outputId": "845ff33b-51ed-4ce6-b629-00db729baed8"
      },
      "execution_count": 12,
      "outputs": [
        {
          "output_type": "stream",
          "name": "stdout",
          "text": [
            "Akurasi set latihan pada epoch terakhir: 100.00%\n",
            "Akurasi set validasi pada epoch terakhir: 98.74%\n"
          ]
        }
      ]
    },
    {
      "cell_type": "code",
      "source": [
        "# Memeriksa apakah model telah mencapai akurasi minimal 75% pada kedua set\n",
        "if acc_train[-1] >= 0.75 and acc_val[-1] >= 0.75:\n",
        "    print(\"Model telah mencapai akurasi minimal 75% pada set latihan dan validasi.\")\n",
        "else:\n",
        "    print(\"Model belum mencapai akurasi minimal 75% pada set latihan dan validasi.\")"
      ],
      "metadata": {
        "colab": {
          "base_uri": "https://localhost:8080/"
        },
        "id": "_QtXSW76Z67w",
        "outputId": "6378ae14-bbdb-42ea-a1db-0fb2829d9ef2"
      },
      "execution_count": 13,
      "outputs": [
        {
          "output_type": "stream",
          "name": "stdout",
          "text": [
            "Model telah mencapai akurasi minimal 75% pada set latihan dan validasi.\n"
          ]
        }
      ]
    },
    {
      "cell_type": "code",
      "source": [
        "# Memeriksa apakah model telah mencapai akurasi 90% pada kedua set\n",
        "if acc_train[-1] >= 0.90 and acc_val[-1] >= 0.90:\n",
        "    print(\"Model telah mencapai akurasi lebih dari 90% pada set latihan dan validasi.\")\n",
        "else:\n",
        "    print(\"Model belum mencapai akurasi lebih dari 90% pada set latihan dan validasi.\")"
      ],
      "metadata": {
        "colab": {
          "base_uri": "https://localhost:8080/"
        },
        "id": "4tXkV0UoaMf8",
        "outputId": "d1a4b409-e33a-484b-bb2e-8c9df5fb3ae4"
      },
      "execution_count": 15,
      "outputs": [
        {
          "output_type": "stream",
          "name": "stdout",
          "text": [
            "Model telah mencapai akurasi lebih dari 90% pada set latihan dan validasi.\n"
          ]
        }
      ]
    }
  ]
}