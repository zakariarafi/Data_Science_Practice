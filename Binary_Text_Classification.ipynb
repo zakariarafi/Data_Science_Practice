{
  "nbformat": 4,
  "nbformat_minor": 0,
  "metadata": {
    "colab": {
      "provenance": [],
      "authorship_tag": "ABX9TyP3CuqGpdb1HZTkl3/8Uz15",
      "include_colab_link": true
    },
    "kernelspec": {
      "name": "python3",
      "display_name": "Python 3"
    },
    "language_info": {
      "name": "python"
    }
  },
  "cells": [
    {
      "cell_type": "markdown",
      "metadata": {
        "id": "view-in-github",
        "colab_type": "text"
      },
      "source": [
        "<a href=\"https://colab.research.google.com/github/zakariarafi/Data_Science_Practice/blob/master/Binary_Text_Classification.ipynb\" target=\"_parent\"><img src=\"https://colab.research.google.com/assets/colab-badge.svg\" alt=\"Open In Colab\"/></a>"
      ]
    },
    {
      "cell_type": "code",
      "execution_count": 2,
      "metadata": {
        "id": "w4ytxCWwPu5h"
      },
      "outputs": [],
      "source": [
        "#Binary Text Classification\n",
        "import pandas as pd\n",
        "df = pd.read_csv('yelp_labelled.txt', names=['sentence', 'label'], sep='\\t')"
      ]
    },
    {
      "cell_type": "code",
      "source": [
        "df.tail()"
      ],
      "metadata": {
        "colab": {
          "base_uri": "https://localhost:8080/",
          "height": 206
        },
        "id": "bTBi1lG_QJ6s",
        "outputId": "a2ed23d7-faca-4230-8f86-05bd101eb5ca"
      },
      "execution_count": 3,
      "outputs": [
        {
          "output_type": "execute_result",
          "data": {
            "text/plain": [
              "                                              sentence  label\n",
              "995  I think food should have flavor and texture an...      0\n",
              "996                           Appetite instantly gone.      0\n",
              "997  Overall I was not impressed and would not go b...      0\n",
              "998  The whole experience was underwhelming, and I ...      0\n",
              "999  Then, as if I hadn't wasted enough of my life ...      0"
            ],
            "text/html": [
              "\n",
              "  <div id=\"df-679ce5e3-f6b1-4a00-a25f-d4ec529e8772\">\n",
              "    <div class=\"colab-df-container\">\n",
              "      <div>\n",
              "<style scoped>\n",
              "    .dataframe tbody tr th:only-of-type {\n",
              "        vertical-align: middle;\n",
              "    }\n",
              "\n",
              "    .dataframe tbody tr th {\n",
              "        vertical-align: top;\n",
              "    }\n",
              "\n",
              "    .dataframe thead th {\n",
              "        text-align: right;\n",
              "    }\n",
              "</style>\n",
              "<table border=\"1\" class=\"dataframe\">\n",
              "  <thead>\n",
              "    <tr style=\"text-align: right;\">\n",
              "      <th></th>\n",
              "      <th>sentence</th>\n",
              "      <th>label</th>\n",
              "    </tr>\n",
              "  </thead>\n",
              "  <tbody>\n",
              "    <tr>\n",
              "      <th>995</th>\n",
              "      <td>I think food should have flavor and texture an...</td>\n",
              "      <td>0</td>\n",
              "    </tr>\n",
              "    <tr>\n",
              "      <th>996</th>\n",
              "      <td>Appetite instantly gone.</td>\n",
              "      <td>0</td>\n",
              "    </tr>\n",
              "    <tr>\n",
              "      <th>997</th>\n",
              "      <td>Overall I was not impressed and would not go b...</td>\n",
              "      <td>0</td>\n",
              "    </tr>\n",
              "    <tr>\n",
              "      <th>998</th>\n",
              "      <td>The whole experience was underwhelming, and I ...</td>\n",
              "      <td>0</td>\n",
              "    </tr>\n",
              "    <tr>\n",
              "      <th>999</th>\n",
              "      <td>Then, as if I hadn't wasted enough of my life ...</td>\n",
              "      <td>0</td>\n",
              "    </tr>\n",
              "  </tbody>\n",
              "</table>\n",
              "</div>\n",
              "      <button class=\"colab-df-convert\" onclick=\"convertToInteractive('df-679ce5e3-f6b1-4a00-a25f-d4ec529e8772')\"\n",
              "              title=\"Convert this dataframe to an interactive table.\"\n",
              "              style=\"display:none;\">\n",
              "        \n",
              "  <svg xmlns=\"http://www.w3.org/2000/svg\" height=\"24px\"viewBox=\"0 0 24 24\"\n",
              "       width=\"24px\">\n",
              "    <path d=\"M0 0h24v24H0V0z\" fill=\"none\"/>\n",
              "    <path d=\"M18.56 5.44l.94 2.06.94-2.06 2.06-.94-2.06-.94-.94-2.06-.94 2.06-2.06.94zm-11 1L8.5 8.5l.94-2.06 2.06-.94-2.06-.94L8.5 2.5l-.94 2.06-2.06.94zm10 10l.94 2.06.94-2.06 2.06-.94-2.06-.94-.94-2.06-.94 2.06-2.06.94z\"/><path d=\"M17.41 7.96l-1.37-1.37c-.4-.4-.92-.59-1.43-.59-.52 0-1.04.2-1.43.59L10.3 9.45l-7.72 7.72c-.78.78-.78 2.05 0 2.83L4 21.41c.39.39.9.59 1.41.59.51 0 1.02-.2 1.41-.59l7.78-7.78 2.81-2.81c.8-.78.8-2.07 0-2.86zM5.41 20L4 18.59l7.72-7.72 1.47 1.35L5.41 20z\"/>\n",
              "  </svg>\n",
              "      </button>\n",
              "      \n",
              "  <style>\n",
              "    .colab-df-container {\n",
              "      display:flex;\n",
              "      flex-wrap:wrap;\n",
              "      gap: 12px;\n",
              "    }\n",
              "\n",
              "    .colab-df-convert {\n",
              "      background-color: #E8F0FE;\n",
              "      border: none;\n",
              "      border-radius: 50%;\n",
              "      cursor: pointer;\n",
              "      display: none;\n",
              "      fill: #1967D2;\n",
              "      height: 32px;\n",
              "      padding: 0 0 0 0;\n",
              "      width: 32px;\n",
              "    }\n",
              "\n",
              "    .colab-df-convert:hover {\n",
              "      background-color: #E2EBFA;\n",
              "      box-shadow: 0px 1px 2px rgba(60, 64, 67, 0.3), 0px 1px 3px 1px rgba(60, 64, 67, 0.15);\n",
              "      fill: #174EA6;\n",
              "    }\n",
              "\n",
              "    [theme=dark] .colab-df-convert {\n",
              "      background-color: #3B4455;\n",
              "      fill: #D2E3FC;\n",
              "    }\n",
              "\n",
              "    [theme=dark] .colab-df-convert:hover {\n",
              "      background-color: #434B5C;\n",
              "      box-shadow: 0px 1px 3px 1px rgba(0, 0, 0, 0.15);\n",
              "      filter: drop-shadow(0px 1px 2px rgba(0, 0, 0, 0.3));\n",
              "      fill: #FFFFFF;\n",
              "    }\n",
              "  </style>\n",
              "\n",
              "      <script>\n",
              "        const buttonEl =\n",
              "          document.querySelector('#df-679ce5e3-f6b1-4a00-a25f-d4ec529e8772 button.colab-df-convert');\n",
              "        buttonEl.style.display =\n",
              "          google.colab.kernel.accessAllowed ? 'block' : 'none';\n",
              "\n",
              "        async function convertToInteractive(key) {\n",
              "          const element = document.querySelector('#df-679ce5e3-f6b1-4a00-a25f-d4ec529e8772');\n",
              "          const dataTable =\n",
              "            await google.colab.kernel.invokeFunction('convertToInteractive',\n",
              "                                                     [key], {});\n",
              "          if (!dataTable) return;\n",
              "\n",
              "          const docLinkHtml = 'Like what you see? Visit the ' +\n",
              "            '<a target=\"_blank\" href=https://colab.research.google.com/notebooks/data_table.ipynb>data table notebook</a>'\n",
              "            + ' to learn more about interactive tables.';\n",
              "          element.innerHTML = '';\n",
              "          dataTable['output_type'] = 'display_data';\n",
              "          await google.colab.output.renderOutput(dataTable, element);\n",
              "          const docLink = document.createElement('div');\n",
              "          docLink.innerHTML = docLinkHtml;\n",
              "          element.appendChild(docLink);\n",
              "        }\n",
              "      </script>\n",
              "    </div>\n",
              "  </div>\n",
              "  "
            ]
          },
          "metadata": {},
          "execution_count": 3
        }
      ]
    },
    {
      "cell_type": "code",
      "source": [
        "from sklearn.model_selection import train_test_split\n",
        "kalimat = df['sentence'].values\n",
        "y = df['label'].values\n",
        "kalimat_latih, kalimat_test, y_latih, y_test = train_test_split(kalimat, y, test_size=0.2)"
      ],
      "metadata": {
        "id": "bCs9YJBDP7p0"
      },
      "execution_count": 4,
      "outputs": []
    },
    {
      "cell_type": "code",
      "source": [
        "from tensorflow.keras.preprocessing.text import Tokenizer\n",
        "from tensorflow.keras.preprocessing.sequence import pad_sequences\n",
        "\n",
        "tokenizer = Tokenizer(num_words=250, oov_token='x')\n",
        "tokenizer.fit_on_texts(kalimat_latih)\n",
        "tokenizer.fit_on_texts(kalimat_test)\n",
        "\n",
        "sekuens_latih = tokenizer.texts_to_sequences(kalimat_latih)\n",
        "sekuens_test = tokenizer.texts_to_sequences(kalimat_test)\n",
        "\n",
        "padded_latih = pad_sequences(sekuens_latih, maxlen=20)\n",
        "padded_test = pad_sequences(sekuens_test, maxlen=20)"
      ],
      "metadata": {
        "id": "8rYpKEDqQPrC"
      },
      "execution_count": 5,
      "outputs": []
    },
    {
      "cell_type": "code",
      "source": [
        "import tensorflow as tf\n",
        "model = tf.keras.Sequential([\n",
        "    tf.keras.layers.Embedding(250, 16, input_length=20),\n",
        "    tf.keras.layers.GlobalAveragePooling1D(),\n",
        "    tf.keras.layers.Dense(24, activation='relu'),\n",
        "    tf.keras.layers.Dense(1, activation='sigmoid')\n",
        "])\n",
        "model.compile(loss='binary_crossentropy',optimizer='adam',metrics=['accuracy'])"
      ],
      "metadata": {
        "id": "s4XhVdeyQXui"
      },
      "execution_count": 6,
      "outputs": []
    },
    {
      "cell_type": "code",
      "source": [
        "num_epochs = 30\n",
        "history = model.fit(padded_latih, y_latih, epochs=num_epochs,\n",
        "                    validation_data=(padded_test, y_test), verbose=2)"
      ],
      "metadata": {
        "colab": {
          "base_uri": "https://localhost:8080/"
        },
        "id": "8yro5C4DQa8D",
        "outputId": "7d9f9b4b-d0c4-4e13-85fd-54c85a71aabd"
      },
      "execution_count": 7,
      "outputs": [
        {
          "output_type": "stream",
          "name": "stdout",
          "text": [
            "Epoch 1/30\n",
            "25/25 - 1s - loss: 0.6919 - accuracy: 0.5288 - val_loss: 0.6929 - val_accuracy: 0.5150 - 1s/epoch - 54ms/step\n",
            "Epoch 2/30\n",
            "25/25 - 0s - loss: 0.6895 - accuracy: 0.5700 - val_loss: 0.6905 - val_accuracy: 0.5650 - 97ms/epoch - 4ms/step\n",
            "Epoch 3/30\n",
            "25/25 - 0s - loss: 0.6851 - accuracy: 0.5800 - val_loss: 0.6869 - val_accuracy: 0.5750 - 89ms/epoch - 4ms/step\n",
            "Epoch 4/30\n",
            "25/25 - 0s - loss: 0.6786 - accuracy: 0.5987 - val_loss: 0.6799 - val_accuracy: 0.5950 - 93ms/epoch - 4ms/step\n",
            "Epoch 5/30\n",
            "25/25 - 0s - loss: 0.6683 - accuracy: 0.6450 - val_loss: 0.6710 - val_accuracy: 0.6100 - 105ms/epoch - 4ms/step\n",
            "Epoch 6/30\n",
            "25/25 - 0s - loss: 0.6530 - accuracy: 0.6525 - val_loss: 0.6556 - val_accuracy: 0.6600 - 102ms/epoch - 4ms/step\n",
            "Epoch 7/30\n",
            "25/25 - 0s - loss: 0.6334 - accuracy: 0.7337 - val_loss: 0.6373 - val_accuracy: 0.7000 - 107ms/epoch - 4ms/step\n",
            "Epoch 8/30\n",
            "25/25 - 0s - loss: 0.6072 - accuracy: 0.7425 - val_loss: 0.6160 - val_accuracy: 0.7100 - 111ms/epoch - 4ms/step\n",
            "Epoch 9/30\n",
            "25/25 - 0s - loss: 0.5774 - accuracy: 0.7738 - val_loss: 0.5900 - val_accuracy: 0.7300 - 96ms/epoch - 4ms/step\n",
            "Epoch 10/30\n",
            "25/25 - 0s - loss: 0.5451 - accuracy: 0.7850 - val_loss: 0.5697 - val_accuracy: 0.7400 - 98ms/epoch - 4ms/step\n",
            "Epoch 11/30\n",
            "25/25 - 0s - loss: 0.5118 - accuracy: 0.7950 - val_loss: 0.5489 - val_accuracy: 0.7350 - 98ms/epoch - 4ms/step\n",
            "Epoch 12/30\n",
            "25/25 - 0s - loss: 0.4801 - accuracy: 0.8125 - val_loss: 0.5313 - val_accuracy: 0.7450 - 107ms/epoch - 4ms/step\n",
            "Epoch 13/30\n",
            "25/25 - 0s - loss: 0.4494 - accuracy: 0.8213 - val_loss: 0.5101 - val_accuracy: 0.7500 - 98ms/epoch - 4ms/step\n",
            "Epoch 14/30\n",
            "25/25 - 0s - loss: 0.4237 - accuracy: 0.8388 - val_loss: 0.5004 - val_accuracy: 0.7550 - 137ms/epoch - 5ms/step\n",
            "Epoch 15/30\n",
            "25/25 - 0s - loss: 0.4009 - accuracy: 0.8388 - val_loss: 0.4973 - val_accuracy: 0.7500 - 130ms/epoch - 5ms/step\n",
            "Epoch 16/30\n",
            "25/25 - 0s - loss: 0.3796 - accuracy: 0.8450 - val_loss: 0.4837 - val_accuracy: 0.7600 - 144ms/epoch - 6ms/step\n",
            "Epoch 17/30\n",
            "25/25 - 0s - loss: 0.3653 - accuracy: 0.8537 - val_loss: 0.4882 - val_accuracy: 0.7450 - 138ms/epoch - 6ms/step\n",
            "Epoch 18/30\n",
            "25/25 - 0s - loss: 0.3474 - accuracy: 0.8525 - val_loss: 0.4816 - val_accuracy: 0.7800 - 148ms/epoch - 6ms/step\n",
            "Epoch 19/30\n",
            "25/25 - 0s - loss: 0.3350 - accuracy: 0.8512 - val_loss: 0.4954 - val_accuracy: 0.7500 - 128ms/epoch - 5ms/step\n",
            "Epoch 20/30\n",
            "25/25 - 0s - loss: 0.3268 - accuracy: 0.8612 - val_loss: 0.5056 - val_accuracy: 0.7350 - 139ms/epoch - 6ms/step\n",
            "Epoch 21/30\n",
            "25/25 - 0s - loss: 0.3155 - accuracy: 0.8600 - val_loss: 0.5117 - val_accuracy: 0.7400 - 133ms/epoch - 5ms/step\n",
            "Epoch 22/30\n",
            "25/25 - 0s - loss: 0.3085 - accuracy: 0.8650 - val_loss: 0.5103 - val_accuracy: 0.7550 - 123ms/epoch - 5ms/step\n",
            "Epoch 23/30\n",
            "25/25 - 0s - loss: 0.3008 - accuracy: 0.8725 - val_loss: 0.5076 - val_accuracy: 0.7550 - 128ms/epoch - 5ms/step\n",
            "Epoch 24/30\n",
            "25/25 - 0s - loss: 0.2937 - accuracy: 0.8763 - val_loss: 0.5109 - val_accuracy: 0.7600 - 147ms/epoch - 6ms/step\n",
            "Epoch 25/30\n",
            "25/25 - 0s - loss: 0.2888 - accuracy: 0.8825 - val_loss: 0.5065 - val_accuracy: 0.7950 - 132ms/epoch - 5ms/step\n",
            "Epoch 26/30\n",
            "25/25 - 0s - loss: 0.2852 - accuracy: 0.8813 - val_loss: 0.5159 - val_accuracy: 0.7750 - 134ms/epoch - 5ms/step\n",
            "Epoch 27/30\n",
            "25/25 - 0s - loss: 0.2796 - accuracy: 0.8813 - val_loss: 0.5244 - val_accuracy: 0.7750 - 120ms/epoch - 5ms/step\n",
            "Epoch 28/30\n",
            "25/25 - 0s - loss: 0.2711 - accuracy: 0.8900 - val_loss: 0.5503 - val_accuracy: 0.7500 - 115ms/epoch - 5ms/step\n",
            "Epoch 29/30\n",
            "25/25 - 0s - loss: 0.2679 - accuracy: 0.8913 - val_loss: 0.5436 - val_accuracy: 0.7550 - 139ms/epoch - 6ms/step\n",
            "Epoch 30/30\n",
            "25/25 - 0s - loss: 0.2659 - accuracy: 0.8900 - val_loss: 0.5505 - val_accuracy: 0.7500 - 142ms/epoch - 6ms/step\n"
          ]
        }
      ]
    }
  ]
}