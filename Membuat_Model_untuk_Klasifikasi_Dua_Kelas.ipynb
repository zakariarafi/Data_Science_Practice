{
  "nbformat": 4,
  "nbformat_minor": 0,
  "metadata": {
    "colab": {
      "provenance": [],
      "authorship_tag": "ABX9TyOyfuWiKsYXIl8RSqRFceWI",
      "include_colab_link": true
    },
    "kernelspec": {
      "name": "python3",
      "display_name": "Python 3"
    },
    "language_info": {
      "name": "python"
    }
  },
  "cells": [
    {
      "cell_type": "markdown",
      "metadata": {
        "id": "view-in-github",
        "colab_type": "text"
      },
      "source": [
        "<a href=\"https://colab.research.google.com/github/zakariarafi/Data_Science_Practice/blob/master/Membuat_Model_untuk_Klasifikasi_Dua_Kelas.ipynb\" target=\"_parent\"><img src=\"https://colab.research.google.com/assets/colab-badge.svg\" alt=\"Open In Colab\"/></a>"
      ]
    },
    {
      "cell_type": "code",
      "execution_count": 18,
      "metadata": {
        "id": "UM930hIhZTgZ"
      },
      "outputs": [],
      "source": [
        "import pandas as pd\n",
        "df = pd.read_csv('citrus.csv')"
      ]
    },
    {
      "cell_type": "code",
      "source": [
        "df.info()"
      ],
      "metadata": {
        "colab": {
          "base_uri": "https://localhost:8080/"
        },
        "id": "JAFt94tDZhmx",
        "outputId": "309bd7a9-a3f2-46db-ab40-5d3fe116e2e3"
      },
      "execution_count": 19,
      "outputs": [
        {
          "output_type": "stream",
          "name": "stdout",
          "text": [
            "<class 'pandas.core.frame.DataFrame'>\n",
            "RangeIndex: 10000 entries, 0 to 9999\n",
            "Data columns (total 6 columns):\n",
            " #   Column    Non-Null Count  Dtype  \n",
            "---  ------    --------------  -----  \n",
            " 0   name      10000 non-null  object \n",
            " 1   diameter  10000 non-null  float64\n",
            " 2   weight    10000 non-null  float64\n",
            " 3   red       10000 non-null  int64  \n",
            " 4   green     10000 non-null  int64  \n",
            " 5   blue      10000 non-null  int64  \n",
            "dtypes: float64(2), int64(3), object(1)\n",
            "memory usage: 468.9+ KB\n"
          ]
        }
      ]
    },
    {
      "cell_type": "code",
      "source": [
        "df.head (10000)"
      ],
      "metadata": {
        "colab": {
          "base_uri": "https://localhost:8080/",
          "height": 424
        },
        "id": "H50hVgUVZnOV",
        "outputId": "97487efd-702d-4750-9601-1f2bc9b23b36"
      },
      "execution_count": 20,
      "outputs": [
        {
          "output_type": "execute_result",
          "data": {
            "text/plain": [
              "            name  diameter  weight  red  green  blue\n",
              "0         orange      2.96   86.76  172     85     2\n",
              "1         orange      3.91   88.05  166     78     3\n",
              "2         orange      4.42   95.17  156     81     2\n",
              "3         orange      4.47   95.60  163     81     4\n",
              "4         orange      4.48   95.76  161     72     9\n",
              "...          ...       ...     ...  ...    ...   ...\n",
              "9995  grapefruit     15.35  253.89  149     77    20\n",
              "9996  grapefruit     15.41  254.67  148     68     7\n",
              "9997  grapefruit     15.59  256.50  168     82    20\n",
              "9998  grapefruit     15.92  260.14  142     72    11\n",
              "9999  grapefruit     16.45  261.51  152     74     2\n",
              "\n",
              "[10000 rows x 6 columns]"
            ],
            "text/html": [
              "\n",
              "  <div id=\"df-cbae609a-1a69-46ff-a17c-aa00c99e4817\">\n",
              "    <div class=\"colab-df-container\">\n",
              "      <div>\n",
              "<style scoped>\n",
              "    .dataframe tbody tr th:only-of-type {\n",
              "        vertical-align: middle;\n",
              "    }\n",
              "\n",
              "    .dataframe tbody tr th {\n",
              "        vertical-align: top;\n",
              "    }\n",
              "\n",
              "    .dataframe thead th {\n",
              "        text-align: right;\n",
              "    }\n",
              "</style>\n",
              "<table border=\"1\" class=\"dataframe\">\n",
              "  <thead>\n",
              "    <tr style=\"text-align: right;\">\n",
              "      <th></th>\n",
              "      <th>name</th>\n",
              "      <th>diameter</th>\n",
              "      <th>weight</th>\n",
              "      <th>red</th>\n",
              "      <th>green</th>\n",
              "      <th>blue</th>\n",
              "    </tr>\n",
              "  </thead>\n",
              "  <tbody>\n",
              "    <tr>\n",
              "      <th>0</th>\n",
              "      <td>orange</td>\n",
              "      <td>2.96</td>\n",
              "      <td>86.76</td>\n",
              "      <td>172</td>\n",
              "      <td>85</td>\n",
              "      <td>2</td>\n",
              "    </tr>\n",
              "    <tr>\n",
              "      <th>1</th>\n",
              "      <td>orange</td>\n",
              "      <td>3.91</td>\n",
              "      <td>88.05</td>\n",
              "      <td>166</td>\n",
              "      <td>78</td>\n",
              "      <td>3</td>\n",
              "    </tr>\n",
              "    <tr>\n",
              "      <th>2</th>\n",
              "      <td>orange</td>\n",
              "      <td>4.42</td>\n",
              "      <td>95.17</td>\n",
              "      <td>156</td>\n",
              "      <td>81</td>\n",
              "      <td>2</td>\n",
              "    </tr>\n",
              "    <tr>\n",
              "      <th>3</th>\n",
              "      <td>orange</td>\n",
              "      <td>4.47</td>\n",
              "      <td>95.60</td>\n",
              "      <td>163</td>\n",
              "      <td>81</td>\n",
              "      <td>4</td>\n",
              "    </tr>\n",
              "    <tr>\n",
              "      <th>4</th>\n",
              "      <td>orange</td>\n",
              "      <td>4.48</td>\n",
              "      <td>95.76</td>\n",
              "      <td>161</td>\n",
              "      <td>72</td>\n",
              "      <td>9</td>\n",
              "    </tr>\n",
              "    <tr>\n",
              "      <th>...</th>\n",
              "      <td>...</td>\n",
              "      <td>...</td>\n",
              "      <td>...</td>\n",
              "      <td>...</td>\n",
              "      <td>...</td>\n",
              "      <td>...</td>\n",
              "    </tr>\n",
              "    <tr>\n",
              "      <th>9995</th>\n",
              "      <td>grapefruit</td>\n",
              "      <td>15.35</td>\n",
              "      <td>253.89</td>\n",
              "      <td>149</td>\n",
              "      <td>77</td>\n",
              "      <td>20</td>\n",
              "    </tr>\n",
              "    <tr>\n",
              "      <th>9996</th>\n",
              "      <td>grapefruit</td>\n",
              "      <td>15.41</td>\n",
              "      <td>254.67</td>\n",
              "      <td>148</td>\n",
              "      <td>68</td>\n",
              "      <td>7</td>\n",
              "    </tr>\n",
              "    <tr>\n",
              "      <th>9997</th>\n",
              "      <td>grapefruit</td>\n",
              "      <td>15.59</td>\n",
              "      <td>256.50</td>\n",
              "      <td>168</td>\n",
              "      <td>82</td>\n",
              "      <td>20</td>\n",
              "    </tr>\n",
              "    <tr>\n",
              "      <th>9998</th>\n",
              "      <td>grapefruit</td>\n",
              "      <td>15.92</td>\n",
              "      <td>260.14</td>\n",
              "      <td>142</td>\n",
              "      <td>72</td>\n",
              "      <td>11</td>\n",
              "    </tr>\n",
              "    <tr>\n",
              "      <th>9999</th>\n",
              "      <td>grapefruit</td>\n",
              "      <td>16.45</td>\n",
              "      <td>261.51</td>\n",
              "      <td>152</td>\n",
              "      <td>74</td>\n",
              "      <td>2</td>\n",
              "    </tr>\n",
              "  </tbody>\n",
              "</table>\n",
              "<p>10000 rows × 6 columns</p>\n",
              "</div>\n",
              "      <button class=\"colab-df-convert\" onclick=\"convertToInteractive('df-cbae609a-1a69-46ff-a17c-aa00c99e4817')\"\n",
              "              title=\"Convert this dataframe to an interactive table.\"\n",
              "              style=\"display:none;\">\n",
              "        \n",
              "  <svg xmlns=\"http://www.w3.org/2000/svg\" height=\"24px\"viewBox=\"0 0 24 24\"\n",
              "       width=\"24px\">\n",
              "    <path d=\"M0 0h24v24H0V0z\" fill=\"none\"/>\n",
              "    <path d=\"M18.56 5.44l.94 2.06.94-2.06 2.06-.94-2.06-.94-.94-2.06-.94 2.06-2.06.94zm-11 1L8.5 8.5l.94-2.06 2.06-.94-2.06-.94L8.5 2.5l-.94 2.06-2.06.94zm10 10l.94 2.06.94-2.06 2.06-.94-2.06-.94-.94-2.06-.94 2.06-2.06.94z\"/><path d=\"M17.41 7.96l-1.37-1.37c-.4-.4-.92-.59-1.43-.59-.52 0-1.04.2-1.43.59L10.3 9.45l-7.72 7.72c-.78.78-.78 2.05 0 2.83L4 21.41c.39.39.9.59 1.41.59.51 0 1.02-.2 1.41-.59l7.78-7.78 2.81-2.81c.8-.78.8-2.07 0-2.86zM5.41 20L4 18.59l7.72-7.72 1.47 1.35L5.41 20z\"/>\n",
              "  </svg>\n",
              "      </button>\n",
              "      \n",
              "  <style>\n",
              "    .colab-df-container {\n",
              "      display:flex;\n",
              "      flex-wrap:wrap;\n",
              "      gap: 12px;\n",
              "    }\n",
              "\n",
              "    .colab-df-convert {\n",
              "      background-color: #E8F0FE;\n",
              "      border: none;\n",
              "      border-radius: 50%;\n",
              "      cursor: pointer;\n",
              "      display: none;\n",
              "      fill: #1967D2;\n",
              "      height: 32px;\n",
              "      padding: 0 0 0 0;\n",
              "      width: 32px;\n",
              "    }\n",
              "\n",
              "    .colab-df-convert:hover {\n",
              "      background-color: #E2EBFA;\n",
              "      box-shadow: 0px 1px 2px rgba(60, 64, 67, 0.3), 0px 1px 3px 1px rgba(60, 64, 67, 0.15);\n",
              "      fill: #174EA6;\n",
              "    }\n",
              "\n",
              "    [theme=dark] .colab-df-convert {\n",
              "      background-color: #3B4455;\n",
              "      fill: #D2E3FC;\n",
              "    }\n",
              "\n",
              "    [theme=dark] .colab-df-convert:hover {\n",
              "      background-color: #434B5C;\n",
              "      box-shadow: 0px 1px 3px 1px rgba(0, 0, 0, 0.15);\n",
              "      filter: drop-shadow(0px 1px 2px rgba(0, 0, 0, 0.3));\n",
              "      fill: #FFFFFF;\n",
              "    }\n",
              "  </style>\n",
              "\n",
              "      <script>\n",
              "        const buttonEl =\n",
              "          document.querySelector('#df-cbae609a-1a69-46ff-a17c-aa00c99e4817 button.colab-df-convert');\n",
              "        buttonEl.style.display =\n",
              "          google.colab.kernel.accessAllowed ? 'block' : 'none';\n",
              "\n",
              "        async function convertToInteractive(key) {\n",
              "          const element = document.querySelector('#df-cbae609a-1a69-46ff-a17c-aa00c99e4817');\n",
              "          const dataTable =\n",
              "            await google.colab.kernel.invokeFunction('convertToInteractive',\n",
              "                                                     [key], {});\n",
              "          if (!dataTable) return;\n",
              "\n",
              "          const docLinkHtml = 'Like what you see? Visit the ' +\n",
              "            '<a target=\"_blank\" href=https://colab.research.google.com/notebooks/data_table.ipynb>data table notebook</a>'\n",
              "            + ' to learn more about interactive tables.';\n",
              "          element.innerHTML = '';\n",
              "          dataTable['output_type'] = 'display_data';\n",
              "          await google.colab.output.renderOutput(dataTable, element);\n",
              "          const docLink = document.createElement('div');\n",
              "          docLink.innerHTML = docLinkHtml;\n",
              "          element.appendChild(docLink);\n",
              "        }\n",
              "      </script>\n",
              "    </div>\n",
              "  </div>\n",
              "  "
            ]
          },
          "metadata": {},
          "execution_count": 20
        }
      ]
    },
    {
      "cell_type": "code",
      "source": [
        "df.name[df.name == 'orange'] = 0\n",
        "df.name[df.name == 'grapefruit'] = 1\n",
        "# Mengubah nilai string 'orange' menjadi 0 dan 'grapefruit' menjadi 1\n",
        "\n",
        "dataset = df.values\n",
        "dataset\n",
        "# Mengkonversi dataframe menjadi array numpy"
      ],
      "metadata": {
        "colab": {
          "base_uri": "https://localhost:8080/"
        },
        "id": "niaUvqtpZzvf",
        "outputId": "039f6e8b-817d-4203-a2c8-4224813ba3e7"
      },
      "execution_count": 21,
      "outputs": [
        {
          "output_type": "stream",
          "name": "stderr",
          "text": [
            "<ipython-input-21-cd2df205fa94>:1: SettingWithCopyWarning: \n",
            "A value is trying to be set on a copy of a slice from a DataFrame\n",
            "\n",
            "See the caveats in the documentation: https://pandas.pydata.org/pandas-docs/stable/user_guide/indexing.html#returning-a-view-versus-a-copy\n",
            "  df.name[df.name == 'orange'] = 0\n",
            "<ipython-input-21-cd2df205fa94>:2: SettingWithCopyWarning: \n",
            "A value is trying to be set on a copy of a slice from a DataFrame\n",
            "\n",
            "See the caveats in the documentation: https://pandas.pydata.org/pandas-docs/stable/user_guide/indexing.html#returning-a-view-versus-a-copy\n",
            "  df.name[df.name == 'grapefruit'] = 1\n"
          ]
        },
        {
          "output_type": "execute_result",
          "data": {
            "text/plain": [
              "array([[0, 2.96, 86.76, 172, 85, 2],\n",
              "       [0, 3.91, 88.05, 166, 78, 3],\n",
              "       [0, 4.42, 95.17, 156, 81, 2],\n",
              "       ...,\n",
              "       [1, 15.59, 256.5, 168, 82, 20],\n",
              "       [1, 15.92, 260.14, 142, 72, 11],\n",
              "       [1, 16.45, 261.51, 152, 74, 2]], dtype=object)"
            ]
          },
          "metadata": {},
          "execution_count": 21
        }
      ]
    },
    {
      "cell_type": "code",
      "source": [
        "X = dataset[:,1:6] # Memilih 5 kolom kedua sampai keenam sebagai atribut\n",
        "y = dataset[:,0] # Memilih kolom pertama sebagai label"
      ],
      "metadata": {
        "id": "Fm8KChWUa867"
      },
      "execution_count": 22,
      "outputs": []
    },
    {
      "cell_type": "code",
      "source": [
        "from sklearn import preprocessing\n",
        "min_max_scaler = preprocessing.MinMaxScaler()\n",
        "X_scale = min_max_scaler.fit_transform(X)\n",
        "X_scale\n",
        "# Mengaplikasikan normalisasi dengan MinMaxScaler pada atribut"
      ],
      "metadata": {
        "colab": {
          "base_uri": "https://localhost:8080/"
        },
        "id": "hgKyvf8VbCPl",
        "outputId": "500838d5-efa7-4a04-c9e3-5fd7c9254e44"
      },
      "execution_count": 31,
      "outputs": [
        {
          "output_type": "execute_result",
          "data": {
            "text/plain": [
              "array([[0.        , 0.        , 0.74025974, 0.63529412, 0.        ],\n",
              "       [0.07042254, 0.00738197, 0.66233766, 0.55294118, 0.01851852],\n",
              "       [0.10822832, 0.04812589, 0.53246753, 0.58823529, 0.        ],\n",
              "       ...,\n",
              "       [0.93624907, 0.97133047, 0.68831169, 0.6       , 0.33333333],\n",
              "       [0.96071164, 0.99216023, 0.35064935, 0.48235294, 0.16666667],\n",
              "       [1.        , 1.        , 0.48051948, 0.50588235, 0.        ]])"
            ]
          },
          "metadata": {},
          "execution_count": 31
        }
      ]
    },
    {
      "cell_type": "code",
      "source": [
        "from sklearn.model_selection import train_test_split\n",
        "X_train, X_test, Y_train, Y_test = train_test_split(X_scale, y, test_size=0.3)\n",
        "# Memisahkan data menjadi 70% data latih dan 30% data uji"
      ],
      "metadata": {
        "id": "A8NM3Lb-ex37"
      },
      "execution_count": 32,
      "outputs": []
    },
    {
      "cell_type": "code",
      "source": [
        "import numpy as np\n",
        "\n",
        "Y_train = Y_train.astype(np.float32)\n",
        "Y_test = Y_test.astype(np.float32)"
      ],
      "metadata": {
        "id": "0jj1mBI2e4m4"
      },
      "execution_count": 33,
      "outputs": []
    },
    {
      "cell_type": "code",
      "source": [
        "from keras.models import Sequential\n",
        "from keras.layers import Dense"
      ],
      "metadata": {
        "id": "l42AVczjj5Ku"
      },
      "execution_count": 34,
      "outputs": []
    },
    {
      "cell_type": "code",
      "source": [
        "model = Sequential([\n",
        "                    Dense(32, activation='relu', input_shape=(5,)),\n",
        "                    Dense(32, activation='relu'),\n",
        "                    Dense(1, activation='sigmoid'),])"
      ],
      "metadata": {
        "id": "1jCzFuIVj-FQ"
      },
      "execution_count": 35,
      "outputs": []
    },
    {
      "cell_type": "code",
      "source": [
        "model.compile(optimizer='sgd',\n",
        "              loss='binary_crossentropy',\n",
        "              metrics=['accuracy'])"
      ],
      "metadata": {
        "id": "axajNbBqkAw_"
      },
      "execution_count": 36,
      "outputs": []
    },
    {
      "cell_type": "code",
      "source": [
        "model.fit(X_train, Y_train, epochs=100)"
      ],
      "metadata": {
        "colab": {
          "base_uri": "https://localhost:8080/"
        },
        "id": "oqaZJaczkEnS",
        "outputId": "ad39c672-9c88-421c-b26d-c255c8b6ae1b"
      },
      "execution_count": 37,
      "outputs": [
        {
          "output_type": "stream",
          "name": "stdout",
          "text": [
            "Epoch 1/100\n",
            "219/219 [==============================] - 1s 1ms/step - loss: 0.6572 - accuracy: 0.8454\n",
            "Epoch 2/100\n",
            "219/219 [==============================] - 0s 1ms/step - loss: 0.6149 - accuracy: 0.9120\n",
            "Epoch 3/100\n",
            "219/219 [==============================] - 0s 1ms/step - loss: 0.5527 - accuracy: 0.9167\n",
            "Epoch 4/100\n",
            "219/219 [==============================] - 0s 1ms/step - loss: 0.4650 - accuracy: 0.9237\n",
            "Epoch 5/100\n",
            "219/219 [==============================] - 0s 1ms/step - loss: 0.3695 - accuracy: 0.9241\n",
            "Epoch 6/100\n",
            "219/219 [==============================] - 0s 1ms/step - loss: 0.2972 - accuracy: 0.9243\n",
            "Epoch 7/100\n",
            "219/219 [==============================] - 0s 1ms/step - loss: 0.2517 - accuracy: 0.9256\n",
            "Epoch 8/100\n",
            "219/219 [==============================] - 0s 1ms/step - loss: 0.2247 - accuracy: 0.9246\n",
            "Epoch 9/100\n",
            "219/219 [==============================] - 0s 1ms/step - loss: 0.2084 - accuracy: 0.9256\n",
            "Epoch 10/100\n",
            "219/219 [==============================] - 0s 2ms/step - loss: 0.1983 - accuracy: 0.9264\n",
            "Epoch 11/100\n",
            "219/219 [==============================] - 0s 1ms/step - loss: 0.1921 - accuracy: 0.9264\n",
            "Epoch 12/100\n",
            "219/219 [==============================] - 0s 2ms/step - loss: 0.1877 - accuracy: 0.9273\n",
            "Epoch 13/100\n",
            "219/219 [==============================] - 0s 1ms/step - loss: 0.1851 - accuracy: 0.9277\n",
            "Epoch 14/100\n",
            "219/219 [==============================] - 0s 1ms/step - loss: 0.1829 - accuracy: 0.9273\n",
            "Epoch 15/100\n",
            "219/219 [==============================] - 0s 1ms/step - loss: 0.1817 - accuracy: 0.9274\n",
            "Epoch 16/100\n",
            "219/219 [==============================] - 0s 1ms/step - loss: 0.1807 - accuracy: 0.9267\n",
            "Epoch 17/100\n",
            "219/219 [==============================] - 0s 1ms/step - loss: 0.1799 - accuracy: 0.9281\n",
            "Epoch 18/100\n",
            "219/219 [==============================] - 0s 1ms/step - loss: 0.1793 - accuracy: 0.9271\n",
            "Epoch 19/100\n",
            "219/219 [==============================] - 0s 1ms/step - loss: 0.1788 - accuracy: 0.9267\n",
            "Epoch 20/100\n",
            "219/219 [==============================] - 0s 1ms/step - loss: 0.1785 - accuracy: 0.9274\n",
            "Epoch 21/100\n",
            "219/219 [==============================] - 0s 1ms/step - loss: 0.1782 - accuracy: 0.9263\n",
            "Epoch 22/100\n",
            "219/219 [==============================] - 0s 1ms/step - loss: 0.1783 - accuracy: 0.9264\n",
            "Epoch 23/100\n",
            "219/219 [==============================] - 0s 1ms/step - loss: 0.1781 - accuracy: 0.9279\n",
            "Epoch 24/100\n",
            "219/219 [==============================] - 0s 1ms/step - loss: 0.1778 - accuracy: 0.9281\n",
            "Epoch 25/100\n",
            "219/219 [==============================] - 0s 1ms/step - loss: 0.1773 - accuracy: 0.9280\n",
            "Epoch 26/100\n",
            "219/219 [==============================] - 0s 1ms/step - loss: 0.1781 - accuracy: 0.9263\n",
            "Epoch 27/100\n",
            "219/219 [==============================] - 0s 1ms/step - loss: 0.1778 - accuracy: 0.9267\n",
            "Epoch 28/100\n",
            "219/219 [==============================] - 0s 1ms/step - loss: 0.1777 - accuracy: 0.9273\n",
            "Epoch 29/100\n",
            "219/219 [==============================] - 0s 1ms/step - loss: 0.1774 - accuracy: 0.9273\n",
            "Epoch 30/100\n",
            "219/219 [==============================] - 0s 1ms/step - loss: 0.1775 - accuracy: 0.9274\n",
            "Epoch 31/100\n",
            "219/219 [==============================] - 0s 1ms/step - loss: 0.1777 - accuracy: 0.9269\n",
            "Epoch 32/100\n",
            "219/219 [==============================] - 0s 1ms/step - loss: 0.1776 - accuracy: 0.9279\n",
            "Epoch 33/100\n",
            "219/219 [==============================] - 0s 1ms/step - loss: 0.1773 - accuracy: 0.9274\n",
            "Epoch 34/100\n",
            "219/219 [==============================] - 0s 1ms/step - loss: 0.1773 - accuracy: 0.9283\n",
            "Epoch 35/100\n",
            "219/219 [==============================] - 0s 1ms/step - loss: 0.1775 - accuracy: 0.9274\n",
            "Epoch 36/100\n",
            "219/219 [==============================] - 0s 1ms/step - loss: 0.1773 - accuracy: 0.9271\n",
            "Epoch 37/100\n",
            "219/219 [==============================] - 0s 2ms/step - loss: 0.1773 - accuracy: 0.9276\n",
            "Epoch 38/100\n",
            "219/219 [==============================] - 0s 2ms/step - loss: 0.1771 - accuracy: 0.9269\n",
            "Epoch 39/100\n",
            "219/219 [==============================] - 0s 1ms/step - loss: 0.1775 - accuracy: 0.9276\n",
            "Epoch 40/100\n",
            "219/219 [==============================] - 0s 1ms/step - loss: 0.1772 - accuracy: 0.9267\n",
            "Epoch 41/100\n",
            "219/219 [==============================] - 1s 3ms/step - loss: 0.1775 - accuracy: 0.9263\n",
            "Epoch 42/100\n",
            "219/219 [==============================] - 0s 1ms/step - loss: 0.1767 - accuracy: 0.9274\n",
            "Epoch 43/100\n",
            "219/219 [==============================] - 0s 1ms/step - loss: 0.1778 - accuracy: 0.9274\n",
            "Epoch 44/100\n",
            "219/219 [==============================] - 0s 1ms/step - loss: 0.1771 - accuracy: 0.9276\n",
            "Epoch 45/100\n",
            "219/219 [==============================] - 0s 1ms/step - loss: 0.1774 - accuracy: 0.9264\n",
            "Epoch 46/100\n",
            "219/219 [==============================] - 0s 1ms/step - loss: 0.1770 - accuracy: 0.9286\n",
            "Epoch 47/100\n",
            "219/219 [==============================] - 0s 1ms/step - loss: 0.1771 - accuracy: 0.9273\n",
            "Epoch 48/100\n",
            "219/219 [==============================] - 0s 1ms/step - loss: 0.1768 - accuracy: 0.9283\n",
            "Epoch 49/100\n",
            "219/219 [==============================] - 0s 1ms/step - loss: 0.1769 - accuracy: 0.9280\n",
            "Epoch 50/100\n",
            "219/219 [==============================] - 0s 1ms/step - loss: 0.1770 - accuracy: 0.9274\n",
            "Epoch 51/100\n",
            "219/219 [==============================] - 0s 1ms/step - loss: 0.1770 - accuracy: 0.9277\n",
            "Epoch 52/100\n",
            "219/219 [==============================] - 0s 1ms/step - loss: 0.1765 - accuracy: 0.9283\n",
            "Epoch 53/100\n",
            "219/219 [==============================] - 0s 2ms/step - loss: 0.1772 - accuracy: 0.9274\n",
            "Epoch 54/100\n",
            "219/219 [==============================] - 0s 1ms/step - loss: 0.1769 - accuracy: 0.9274\n",
            "Epoch 55/100\n",
            "219/219 [==============================] - 0s 1ms/step - loss: 0.1764 - accuracy: 0.9277\n",
            "Epoch 56/100\n",
            "219/219 [==============================] - 0s 1ms/step - loss: 0.1770 - accuracy: 0.9277\n",
            "Epoch 57/100\n",
            "219/219 [==============================] - 0s 1ms/step - loss: 0.1769 - accuracy: 0.9281\n",
            "Epoch 58/100\n",
            "219/219 [==============================] - 0s 1ms/step - loss: 0.1765 - accuracy: 0.9281\n",
            "Epoch 59/100\n",
            "219/219 [==============================] - 0s 1ms/step - loss: 0.1770 - accuracy: 0.9267\n",
            "Epoch 60/100\n",
            "219/219 [==============================] - 0s 1ms/step - loss: 0.1766 - accuracy: 0.9276\n",
            "Epoch 61/100\n",
            "219/219 [==============================] - 0s 1ms/step - loss: 0.1766 - accuracy: 0.9261\n",
            "Epoch 62/100\n",
            "219/219 [==============================] - 0s 1ms/step - loss: 0.1769 - accuracy: 0.9266\n",
            "Epoch 63/100\n",
            "219/219 [==============================] - 0s 1ms/step - loss: 0.1767 - accuracy: 0.9276\n",
            "Epoch 64/100\n",
            "219/219 [==============================] - 0s 1ms/step - loss: 0.1766 - accuracy: 0.9273\n",
            "Epoch 65/100\n",
            "219/219 [==============================] - 0s 1ms/step - loss: 0.1769 - accuracy: 0.9269\n",
            "Epoch 66/100\n",
            "219/219 [==============================] - 0s 1ms/step - loss: 0.1764 - accuracy: 0.9277\n",
            "Epoch 67/100\n",
            "219/219 [==============================] - 0s 1ms/step - loss: 0.1768 - accuracy: 0.9281\n",
            "Epoch 68/100\n",
            "219/219 [==============================] - 0s 1ms/step - loss: 0.1767 - accuracy: 0.9266\n",
            "Epoch 69/100\n",
            "219/219 [==============================] - 0s 1ms/step - loss: 0.1768 - accuracy: 0.9276\n",
            "Epoch 70/100\n",
            "219/219 [==============================] - 0s 1ms/step - loss: 0.1764 - accuracy: 0.9283\n",
            "Epoch 71/100\n",
            "219/219 [==============================] - 0s 1ms/step - loss: 0.1768 - accuracy: 0.9263\n",
            "Epoch 72/100\n",
            "219/219 [==============================] - 0s 1ms/step - loss: 0.1763 - accuracy: 0.9277\n",
            "Epoch 73/100\n",
            "219/219 [==============================] - 0s 1ms/step - loss: 0.1766 - accuracy: 0.9274\n",
            "Epoch 74/100\n",
            "219/219 [==============================] - 0s 1ms/step - loss: 0.1764 - accuracy: 0.9264\n",
            "Epoch 75/100\n",
            "219/219 [==============================] - 0s 1ms/step - loss: 0.1769 - accuracy: 0.9276\n",
            "Epoch 76/100\n",
            "219/219 [==============================] - 0s 1ms/step - loss: 0.1765 - accuracy: 0.9270\n",
            "Epoch 77/100\n",
            "219/219 [==============================] - 0s 1ms/step - loss: 0.1756 - accuracy: 0.9276\n",
            "Epoch 78/100\n",
            "219/219 [==============================] - 0s 1ms/step - loss: 0.1764 - accuracy: 0.9277\n",
            "Epoch 79/100\n",
            "219/219 [==============================] - 0s 1ms/step - loss: 0.1765 - accuracy: 0.9280\n",
            "Epoch 80/100\n",
            "219/219 [==============================] - 0s 1ms/step - loss: 0.1764 - accuracy: 0.9267\n",
            "Epoch 81/100\n",
            "219/219 [==============================] - 0s 1ms/step - loss: 0.1764 - accuracy: 0.9267\n",
            "Epoch 82/100\n",
            "219/219 [==============================] - 0s 1ms/step - loss: 0.1763 - accuracy: 0.9273\n",
            "Epoch 83/100\n",
            "219/219 [==============================] - 0s 1ms/step - loss: 0.1761 - accuracy: 0.9274\n",
            "Epoch 84/100\n",
            "219/219 [==============================] - 0s 1ms/step - loss: 0.1763 - accuracy: 0.9273\n",
            "Epoch 85/100\n",
            "219/219 [==============================] - 0s 1ms/step - loss: 0.1760 - accuracy: 0.9279\n",
            "Epoch 86/100\n",
            "219/219 [==============================] - 0s 1ms/step - loss: 0.1761 - accuracy: 0.9274\n",
            "Epoch 87/100\n",
            "219/219 [==============================] - 0s 1ms/step - loss: 0.1764 - accuracy: 0.9276\n",
            "Epoch 88/100\n",
            "219/219 [==============================] - 0s 1ms/step - loss: 0.1764 - accuracy: 0.9273\n",
            "Epoch 89/100\n",
            "219/219 [==============================] - 0s 1ms/step - loss: 0.1762 - accuracy: 0.9271\n",
            "Epoch 90/100\n",
            "219/219 [==============================] - 0s 1ms/step - loss: 0.1762 - accuracy: 0.9283\n",
            "Epoch 91/100\n",
            "219/219 [==============================] - 0s 1ms/step - loss: 0.1760 - accuracy: 0.9281\n",
            "Epoch 92/100\n",
            "219/219 [==============================] - 0s 1ms/step - loss: 0.1761 - accuracy: 0.9274\n",
            "Epoch 93/100\n",
            "219/219 [==============================] - 0s 1ms/step - loss: 0.1764 - accuracy: 0.9276\n",
            "Epoch 94/100\n",
            "219/219 [==============================] - 0s 1ms/step - loss: 0.1762 - accuracy: 0.9273\n",
            "Epoch 95/100\n",
            "219/219 [==============================] - 0s 1ms/step - loss: 0.1761 - accuracy: 0.9274\n",
            "Epoch 96/100\n",
            "219/219 [==============================] - 0s 1ms/step - loss: 0.1758 - accuracy: 0.9287\n",
            "Epoch 97/100\n",
            "219/219 [==============================] - 0s 1ms/step - loss: 0.1756 - accuracy: 0.9280\n",
            "Epoch 98/100\n",
            "219/219 [==============================] - 0s 1ms/step - loss: 0.1756 - accuracy: 0.9299\n",
            "Epoch 99/100\n",
            "219/219 [==============================] - 0s 1ms/step - loss: 0.1758 - accuracy: 0.9280\n",
            "Epoch 100/100\n",
            "219/219 [==============================] - 0s 1ms/step - loss: 0.1762 - accuracy: 0.9259\n"
          ]
        },
        {
          "output_type": "execute_result",
          "data": {
            "text/plain": [
              "<keras.callbacks.History at 0x7f30919ed270>"
            ]
          },
          "metadata": {},
          "execution_count": 37
        }
      ]
    },
    {
      "cell_type": "code",
      "source": [
        "model.evaluate(X_test, Y_test)\n",
        "# elemen pertama adalah loss dan elemen kedua adalah akurasi"
      ],
      "metadata": {
        "colab": {
          "base_uri": "https://localhost:8080/"
        },
        "id": "KQdddRxjkIDB",
        "outputId": "daa9f49b-3859-4450-8554-c1c9257528d6"
      },
      "execution_count": 38,
      "outputs": [
        {
          "output_type": "stream",
          "name": "stdout",
          "text": [
            "94/94 [==============================] - 0s 1ms/step - loss: 0.1822 - accuracy: 0.9277\n"
          ]
        },
        {
          "output_type": "execute_result",
          "data": {
            "text/plain": [
              "[0.18221807479858398, 0.9276666641235352]"
            ]
          },
          "metadata": {},
          "execution_count": 38
        }
      ]
    }
  ]
}